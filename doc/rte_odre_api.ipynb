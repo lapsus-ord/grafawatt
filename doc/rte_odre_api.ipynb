{
 "cells": [
  {
   "cell_type": "markdown",
   "source": [
    "# ODRÉ - RTE France\n",
    "\n",
    "[Open Data Réseaux-Énergies](https://opendata.reseaux-energies.fr/)\n",
    "\n",
    "[ODRÉ catalog](https://odre.opendatasoft.com/explore/)\n",
    "\n",
    "[ODRÉ query dataset records documentation](https://help.opendatasoft.com/apis/ods-explore-v2/#tag/Dataset/operation/getRecords)"
   ],
   "metadata": {
    "collapsed": false
   }
  },
  {
   "cell_type": "markdown",
   "source": [
    "## `consommation-quotidienne-brute` dataset\n",
    "\n",
    "> **⚠️ Not updated since 1st december 2022...**\n",
    "\n",
    "Real time data with electricity/gas consumption.\n",
    "\n",
    "- Electricity: half-hour & in MW\n",
    "- Gas: hour & in MW PCS 0°C\n",
    "\n",
    "-> [link to dataset](https://odre.opendatasoft.com/explore/dataset/consommation-quotidienne-brute)"
   ],
   "metadata": {
    "collapsed": false
   }
  },
  {
   "cell_type": "code",
   "execution_count": 7,
   "outputs": [
    {
     "name": "stdout",
     "output_type": "stream",
     "text": [
      "Last 5th measurements (electricity):\n",
      "--------------------------------------------------\n",
      "\tid: 134c458d119af2e79c1d95b1d197347be5bcdf6b\n",
      "\tdate: 2022-05-31T21:30:00+00:00\n",
      "\tconsommation electricite: 45279 MW\n",
      "--------------------------------------------------\n",
      "\tid: f570163f80660707e1a5d05eb29e4a85967e83b0\n",
      "\tdate: 2022-05-31T21:00:00+00:00\n",
      "\tconsommation electricite: 46703 MW\n",
      "--------------------------------------------------\n",
      "\tid: cfbb142ef8f99db8f0bc6cadbfff270fa48916e6\n",
      "\tdate: 2022-05-31T20:30:00+00:00\n",
      "\tconsommation electricite: 45067 MW\n",
      "--------------------------------------------------\n",
      "\tid: 167e979f11ee48e50b9e27ac1d04a113dc3a0ef2\n",
      "\tdate: 2022-05-31T20:00:00+00:00\n",
      "\tconsommation electricite: 44019 MW\n",
      "--------------------------------------------------\n",
      "\tid: fe5034ad34ab169729ef186dbc91e9814b0088f4\n",
      "\tdate: 2022-05-31T19:30:00+00:00\n",
      "\tconsommation electricite: 44043 MW\n"
     ]
    }
   ],
   "source": [
    "import requests\n",
    "\n",
    "base_api = 'https://odre.opendatasoft.com/api/v2'\n",
    "dataset_id = 'consommation-quotidienne-brute'\n",
    "\n",
    "fields = [ # limit to these fields\n",
    "    'date_heure', # or 'date' & 'heure'\n",
    "    'consommation_brute_electricite_rte'\n",
    "]\n",
    "limit = 5 # last 5 measurements from the api\n",
    "\n",
    "params = {\n",
    "    'select': ','.join(fields),\n",
    "    'limit': limit,\n",
    "    'order_by': 'date_heure desc',\n",
    "    'where': 'consommation_brute_electricite_rte is not null',\n",
    "}\n",
    "r = requests.get(f'{base_api}/catalog/datasets/{dataset_id}/records', params=params)\n",
    "\n",
    "print(f'Last {limit}th measurements (electricity):')\n",
    "# print(f'total_count: {r.json()[\"total_count\"]}')\n",
    "for record_container in r.json()['records']:\n",
    "    print('----------' * 5)\n",
    "    record = record_container['record']\n",
    "    print(f'\\tid: {record[\"id\"]}')\n",
    "    print(f'\\tdate: {record[\"fields\"][\"date_heure\"]}')\n",
    "    print(f'\\tconsommation electricite: {record[\"fields\"][\"consommation_brute_electricite_rte\"]} MW')"
   ],
   "metadata": {
    "collapsed": false
   }
  },
  {
   "cell_type": "markdown",
   "source": [
    "## `eco2mix-regional-tr` & `eco2mix-national-tr` dataset\n",
    "\n",
    "Real time ; With an interval of 15 minutes for all energies type.\n",
    "\n",
    "Numbers of records we can get per request: <= 100\n",
    "\n",
    "**Scopes:**\n",
    "-> \"regional\": [link to dataset](https://odre.opendatasoft.com/explore/dataset/eco2mix-regional-tr)\n",
    "-> \"national\": [link to dataset](https://odre.opendatasoft.com/explore/dataset/eco2mix-national-tr)\n",
    "\n",
    "**Energies:** (in MW)\n",
    "- `consommation` **Global consumption**\n",
    "- `nucleaire` Nuclear\n",
    "- `charbon` Coal\n",
    "- `solaire` Solar\n",
    "- `fioul` Fuel oil\n",
    "  - `fioul_cogen`*\n",
    "  - `fioul_tac`*\n",
    "  - `fioul_autres`\n",
    "- `bioenergies` Bioenergies\n",
    "  - `bioenergies_dechets`\n",
    "  - `bioenergies_biomasse`\n",
    "  - `bioenergies_biogaz`\n",
    "- `hydraulique` Hydro-electric\n",
    "  - `hydraulique_fil_eau_eclusee`\n",
    "  - `hydraulique_lacs`\n",
    "  - `hydraulique_step_turbinage`*\n",
    "- `gaz` Gas\n",
    "  - `gaz_cogen`*\n",
    "  - `gaz_tac`*\n",
    "  - `gaz_ccg`*\n",
    "  - `gaz_autres`\n",
    "- `eolien` Wind\n",
    "  - `eolien_terrestre`\n",
    "  - `eolien_offshore`\n",
    "\n",
    "**An interesting stat:** CO2 rate (`taux_co2`)"
   ],
   "metadata": {
    "collapsed": false
   }
  },
  {
   "cell_type": "code",
   "execution_count": 6,
   "outputs": [
    {
     "name": "stdout",
     "output_type": "stream",
     "text": [
      "Last 2th measurements:\n",
      "total_count: 26116\n",
      "--------------------------------------------------\n",
      "\tid: 77ebd4c14737e50ad94642b70e58590a8af2a328\n",
      "\tdate: 2023-02-27T23:45:00+00:00\n",
      "\tperimeter: France\n",
      "\tnature: Données temps réel\n",
      "\tconsumption: 62832 MW\n",
      "\t\tnuclear: 39336 MW\n",
      "\t\tcoal: 306 MW\n",
      "\t\tsolar: 0 MW\n",
      "\t\tfuel oil: 246 MW\n",
      "\t\tbioenergies: 861 MW\n",
      "\t\thydro: 2529 MW\n",
      "\t\tgas: 8172 MW\n",
      "\t\twind: 7462 MW\n",
      "\tco2 rate: 76 gCO2eq/KWh\n",
      "--------------------------------------------------\n",
      "\tid: 816aaee917179ac9c97827f41362de66019503f5\n",
      "\tdate: 2023-02-27T23:30:00+00:00\n",
      "\tperimeter: France\n",
      "\tnature: Données temps réel\n",
      "\tconsumption: 64097 MW\n",
      "\t\tnuclear: 39307 MW\n",
      "\t\tcoal: 309 MW\n",
      "\t\tsolar: 0 MW\n",
      "\t\tfuel oil: 245 MW\n",
      "\t\tbioenergies: 838 MW\n",
      "\t\thydro: 2595 MW\n",
      "\t\tgas: 8243 MW\n",
      "\t\twind: 7613 MW\n",
      "\tco2 rate: 76 gCO2eq/KWh\n"
     ]
    }
   ],
   "source": [
    "import requests\n",
    "# from datetime import timezone, datetime\n",
    "\n",
    "base_api = 'https://odre.opendatasoft.com/api/v2'\n",
    "dataset_id = 'eco2mix-national-tr'\n",
    "\n",
    "fields = [\n",
    "    'perimetre',\n",
    "    'nature',\n",
    "    'date_heure', # or 'date' & 'heure'\n",
    "    'consommation',\n",
    "    'nucleaire', 'charbon', 'solaire', 'fioul', 'bioenergies', 'hydraulique', 'gaz', 'eolien',\n",
    "    'taux_co2',\n",
    "]\n",
    "limit = 2  # last 2 measurements from the api\n",
    "\n",
    "params = {\n",
    "    'select': ','.join(fields),\n",
    "    'limit': limit,\n",
    "    'order_by': 'date desc,heure desc',\n",
    "    'where': 'consommation is not null',\n",
    "    # to filter by date\n",
    "    # 'where': f'date_heure < date\\'{datetime.now(tz=timezone.utc).isoformat()}\\'',\n",
    "}\n",
    "r = requests.get(f'{base_api}/catalog/datasets/{dataset_id}/records', params=params)\n",
    "\n",
    "print(f'Last {limit}th measurements:')\n",
    "print(f'total_count: {r.json()[\"total_count\"]}')\n",
    "for record_container in r.json()['records']:\n",
    "    print('----------' * 5)\n",
    "    record = record_container['record']\n",
    "    print(f'\\tid: {record[\"id\"]}')\n",
    "    print(f'\\tdate: {record[\"fields\"][\"date_heure\"]}')\n",
    "    print(f'\\tperimeter: {record[\"fields\"][\"perimetre\"]}')\n",
    "    print(f'\\tnature: {record[\"fields\"][\"nature\"]}')\n",
    "    print(f'\\tconsumption: {record[\"fields\"][\"consommation\"]} MW')\n",
    "    print(f'\\t\\tnuclear: {record[\"fields\"][\"nucleaire\"]} MW')\n",
    "    print(f'\\t\\tcoal: {record[\"fields\"][\"charbon\"]} MW')\n",
    "    print(f'\\t\\tsolar: {record[\"fields\"][\"solaire\"]} MW')\n",
    "    print(f'\\t\\tfuel oil: {record[\"fields\"][\"fioul\"]} MW')\n",
    "    print(f'\\t\\tbioenergies: {record[\"fields\"][\"bioenergies\"]} MW')\n",
    "    print(f'\\t\\thydro: {record[\"fields\"][\"hydraulique\"]} MW')\n",
    "    print(f'\\t\\tgas: {record[\"fields\"][\"gaz\"]} MW')\n",
    "    print(f'\\t\\twind: {record[\"fields\"][\"eolien\"]} MW')\n",
    "    print(f'\\tco2 rate: {record[\"fields\"][\"taux_co2\"]} gCO2eq/KWh')"
   ],
   "metadata": {
    "collapsed": false
   }
  },
  {
   "cell_type": "markdown",
   "source": [
    "## Definitions:\n",
    "\n",
    "- `cogen` (gas,oil) = \"Cogénération\" (in 🇫🇷️) -> \"Cogeneration / Combined heat and power (CHP)\" (in 🇬🇧️/🇺🇸️)\n",
    "- `tac` (gas,oil) = \"turbine à gaz/combustion\" (in 🇫🇷️) -> \"gas/combustion turbine\" (in 🇬🇧️/🇺🇸️)\n",
    "- `ccg` (gas) = \"Cycle combiné\" (in 🇫🇷️) -> \"Combined cycle power plant\" (in 🇬🇧️/🇺🇸️)\n",
    "- `step_turbinage` (hydro) = \"Stations de transfert d’énergie par pompage\" (in 🇫🇷️) -> \"Pumped-storage hydroelectricity (PSH)\" (in 🇬🇧️/🇺🇸️)"
   ],
   "metadata": {
    "collapsed": false
   }
  }
 ],
 "metadata": {
  "kernelspec": {
   "display_name": "Python 3",
   "language": "python",
   "name": "python3"
  },
  "language_info": {
   "codemirror_mode": {
    "name": "ipython",
    "version": 2
   },
   "file_extension": ".py",
   "mimetype": "text/x-python",
   "name": "python",
   "nbconvert_exporter": "python",
   "pygments_lexer": "ipython2",
   "version": "2.7.6"
  }
 },
 "nbformat": 4,
 "nbformat_minor": 0
}
