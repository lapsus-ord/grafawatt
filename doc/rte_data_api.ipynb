{
 "cells": [
  {
   "cell_type": "markdown",
   "source": [
    "# Data - RTE France\n",
    "\n",
    "[data.rte-france.com](https://data.rte-france.com/en)"
   ],
   "metadata": {
    "collapsed": false
   }
  },
  {
   "cell_type": "markdown",
   "source": [
    "## Authentication\n",
    "\n",
    "The API needs an OAuth token, so you have to create an account to use it (even with the sandbox API).\n",
    "\n",
    "1. Create an account on this [website](https://data.rte-france.com/en)\n",
    "\n",
    "2. Subscribe to the API with your account and create an application\n",
    "   [faq -> \"Video Tutorial 1 - Subscribing to an OAuth2 API\"](https://data.rte-france.com/en/faq)\n",
    "\n",
    "3. Learn how the OAuth2 token works\n",
    "   [faq -> \"Video Tutorial 4 - Getting an OAuth2 Token\"](https://data.rte-france.com/en/faq)\n",
    "\n",
    "4. Copy your base64 OAuth2 token in the `.env` file, at the root of the project, in the property `DATA_RTE_CREDENTIALS`\n",
    "   Example:\n",
    "\n",
    "```dotenv\n",
    "DATA_RTE_CREDENTIALS=\"WU9VUkNMSUVOVElEOllPVVJTRUNSRVRJRA==\"\n",
    "\n",
    "# rest of the file...\n",
    "```"
   ],
   "metadata": {
    "collapsed": false
   }
  },
  {
   "cell_type": "markdown",
   "source": [
    "## GET the data\n",
    "\n",
    "-> [link to dataset](https://data.rte-france.com/catalog/-/api/consumption/Consumption/v1.2)"
   ],
   "metadata": {
    "collapsed": false
   }
  },
  {
   "cell_type": "code",
   "execution_count": null,
   "outputs": [],
   "source": [
    "import os\n",
    "import requests\n",
    "from dotenv import load_dotenv\n",
    "\n",
    "load_dotenv('../.env')\n",
    "credentials = os.getenv('DATA_RTE_CREDENTIALS')\n",
    "\n",
    "base_api = 'https://digital.iservices.rte-france.com'\n",
    "\n",
    "# OAuth request to get token\n",
    "oauth_headers = {\n",
    "    'Authorization': f'Basic {credentials}',\n",
    "    'Content-Type': 'application/x-www-form-urlencoded',\n",
    "}\n",
    "oauth_r = requests.post(f'{base_api}/token/oauth', headers=oauth_headers)\n",
    "access_token = oauth_r.json()['access_token']\n",
    "print('access_token: ', access_token)\n",
    "\n",
    "# Consumption API\n",
    "api_headers = {\n",
    "    'Authorization': f'Bearer {access_token}',\n",
    "}\n",
    "sandbox_link = f'{base_api}/open_api/consumption/v1/sandbox/short_term/'\n",
    "prod_link = f'{base_api}/open_api/consumption/v1/short_term?type=REALISED'\n",
    "\n",
    "api_r = requests.get(prod_link, headers=api_headers)\n",
    "print(api_r.json())"
   ],
   "metadata": {
    "collapsed": false
   }
  }
 ],
 "metadata": {
  "kernelspec": {
   "display_name": "Python 3",
   "language": "python",
   "name": "python3"
  },
  "language_info": {
   "codemirror_mode": {
    "name": "ipython",
    "version": 2
   },
   "file_extension": ".py",
   "mimetype": "text/x-python",
   "name": "python",
   "nbconvert_exporter": "python",
   "pygments_lexer": "ipython2",
   "version": "2.7.6"
  }
 },
 "nbformat": 4,
 "nbformat_minor": 0
}
