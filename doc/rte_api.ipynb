{
 "cells": [
  {
   "cell_type": "markdown",
   "source": [
    "# RTE API"
   ],
   "metadata": {
    "collapsed": false
   }
  },
  {
   "cell_type": "markdown",
   "source": [
    "## Test on ODRÉ `consommation-quotidienne-brute` dataset\n",
    "\n",
    "Real time data\n",
    "\n",
    "-> [link to dataset](https://odre.opendatasoft.com/explore/dataset/consommation-quotidienne-brute)\n",
    "\n",
    "Not updated since 1/12/2022..."
   ],
   "metadata": {
    "collapsed": false
   }
  },
  {
   "cell_type": "code",
   "execution_count": null,
   "outputs": [],
   "source": [
    "import requests\n",
    "\n",
    "base_api = 'https://odre.opendatasoft.com/api/v2'\n",
    "dataset_id = 'consommation-quotidienne-brute'\n",
    "\n",
    "fields = ['date', 'heure', 'consommation_brute_electricite_rte'] # limit to these fields\n",
    "limit = 5 # last 5 measurements from the api\n",
    "\n",
    "params = [\n",
    "    f'select={\",\".join(fields)}',\n",
    "    f'limit={limit}',\n",
    "    'order_by=date desc,heure desc',\n",
    "]\n",
    "r = requests.get(f'{base_api}/catalog/datasets/{dataset_id}/records?{\"&\".join(params)}')\n",
    "\n",
    "# print(f'total_count: {r.json()[\"total_count\"]}')\n",
    "for record_container in r.json()['records']:\n",
    "    record = record_container['record']\n",
    "    print(f'\\tid: {record[\"id\"]}')\n",
    "    print(f'\\ttimestamp: {record[\"timestamp\"]}')\n",
    "    print(f'\\tdate: {record[\"fields\"][\"date\"]}')\n",
    "    print(f'\\theure: {record[\"fields\"][\"heure\"]}')\n",
    "    print(f'\\tconsommation electricite (MW): {record[\"fields\"][\"consommation_brute_electricite_rte\"]}')\n",
    "    print('----------' * 7)\n"
   ],
   "metadata": {
    "collapsed": false
   }
  },
  {
   "cell_type": "markdown",
   "source": [
    "# Test on ODRÉ `eco2mix-regional-tr` & `eco2mix-national-tr` dataset\n",
    "\n",
    "-> \"regional\": [link to dataset](https://odre.opendatasoft.com/explore/dataset/eco2mix-regional-tr)\n",
    "-> \"national\": [link to dataset](https://odre.opendatasoft.com/explore/dataset/eco2mix-national-tr)"
   ],
   "metadata": {
    "collapsed": false
   }
  },
  {
   "cell_type": "code",
   "execution_count": null,
   "outputs": [],
   "source": [],
   "metadata": {
    "collapsed": false
   }
  },
  {
   "cell_type": "markdown",
   "source": [
    "## Test on Data RTE France\n",
    "\n",
    "Real time data\n",
    "\n",
    "-> [link to dataset](https://data.rte-france.com/catalog/-/api/consumption/Consumption/v1.2)\n",
    "\n",
    "You have to create an account to use it."
   ],
   "metadata": {
    "collapsed": false
   }
  },
  {
   "cell_type": "code",
   "execution_count": null,
   "outputs": [],
   "source": [],
   "metadata": {
    "collapsed": false
   }
  }
 ],
 "metadata": {
  "kernelspec": {
   "display_name": "Python 3",
   "language": "python",
   "name": "python3"
  },
  "language_info": {
   "codemirror_mode": {
    "name": "ipython",
    "version": 2
   },
   "file_extension": ".py",
   "mimetype": "text/x-python",
   "name": "python",
   "nbconvert_exporter": "python",
   "pygments_lexer": "ipython2",
   "version": "2.7.6"
  }
 },
 "nbformat": 4,
 "nbformat_minor": 0
}
